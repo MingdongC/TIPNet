{
 "cells": [
  {
   "cell_type": "code",
   "execution_count": 2,
   "metadata": {},
   "outputs": [],
   "source": [
    "import pickle\n",
    "cws = pickle.load(open('webqsp_scores_full_kg.pkl', 'rb'))"
   ]
  },
  {
   "cell_type": "code",
   "execution_count": 4,
   "metadata": {},
   "outputs": [],
   "source": [
    "import networkx as nx\n",
    "from tqdm import tqdm\n",
    "f = open('../../data/fbwq_full/train-1111.txt', 'r')\n",
    "triples = []\n",
    "for line in f:\n",
    "    line = line.strip().split('\\t')\n",
    "    triples.append(line)"
   ]
  },
  {
   "cell_type": "code",
   "execution_count": 5,
   "metadata": {},
   "outputs": [
    {
     "name": "stderr",
     "output_type": "stream",
     "text": [
      "100%|██████████| 34/34 [00:00<00:00, 34116.35it/s]\n"
     ]
    }
   ],
   "source": [
    "G = nx.Graph()\n",
    "for t in tqdm(triples):\n",
    "    e1 = t[0]\n",
    "    e2 = t[2]\n",
    "    G.add_node(e1)\n",
    "    G.add_node(e2)\n",
    "    G.add_edge(e1, e2)\n"
   ]
  },
  {
   "cell_type": "code",
   "execution_count": 7,
   "metadata": {},
   "outputs": [
    {
     "name": "stderr",
     "output_type": "stream",
     "text": [
      "100%|██████████| 34/34 [01:10<00:00,  2.09s/it]\n"
     ]
    }
   ],
   "source": [
    "from collections import defaultdict\n",
    "triples_dict = defaultdict(set)\n",
    "for t in tqdm(triples):\n",
    "    pair = (t[0], t[2])\n",
    "    triples_dict[pair].add(t[1])"
   ]
  },
  {
   "cell_type": "code",
   "execution_count": 8,
   "metadata": {},
   "outputs": [],
   "source": [
    "def getRelationsFromKG(head, tail):\n",
    "    return triples_dict[(head, tail)]\n"
   ]
  },
  {
   "cell_type": "code",
   "execution_count": 10,
   "metadata": {},
   "outputs": [],
   "source": [
    "def getRelationsInPath(G, e1, e2):\n",
    "    path = nx.shortest_path(G, e1, e2)\n",
    "    relations = []\n",
    "    if len(path) < 2:\n",
    "        return []\n",
    "    for i in range(len(path) - 1):\n",
    "        head = path[i]\n",
    "        tail = path[i+1]\n",
    "        rels = list(getRelationsFromKG(head, tail))\n",
    "        relations.extend(rels)\n",
    "    return set(relations)"
   ]
  },
  {
   "cell_type": "code",
   "execution_count": 12,
   "metadata": {},
   "outputs": [
    {
     "data": {
      "text/plain": "Downloading:   0%|          | 0.00/501M [00:00<?, ?B/s]",
      "application/vnd.jupyter.widget-view+json": {
       "version_major": 2,
       "version_minor": 0,
       "model_id": "0fcc2444e6d54243b56df996ce3113ff"
      }
     },
     "metadata": {},
     "output_type": "display_data"
    },
    {
     "ename": "KeyboardInterrupt",
     "evalue": "",
     "output_type": "error",
     "traceback": [
      "\u001B[1;31m---------------------------------------------------------------------------\u001B[0m",
      "\u001B[1;31mKeyboardInterrupt\u001B[0m                         Traceback (most recent call last)",
      "\u001B[1;32m<ipython-input-12-076ce47e101d>\u001B[0m in \u001B[0;36m<module>\u001B[1;34m\u001B[0m\n\u001B[0;32m     44\u001B[0m     \u001B[1;32mreturn\u001B[0m \u001B[0mdata\u001B[0m\u001B[1;33m\u001B[0m\u001B[1;33m\u001B[0m\u001B[0m\n\u001B[0;32m     45\u001B[0m \u001B[1;33m\u001B[0m\u001B[0m\n\u001B[1;32m---> 46\u001B[1;33m \u001B[0mmodel\u001B[0m \u001B[1;33m=\u001B[0m \u001B[0mPruningModel\u001B[0m\u001B[1;33m(\u001B[0m\u001B[0mrel2idx\u001B[0m\u001B[1;33m,\u001B[0m \u001B[0midx2rel\u001B[0m\u001B[1;33m,\u001B[0m \u001B[1;36m0.0\u001B[0m\u001B[1;33m)\u001B[0m\u001B[1;33m\u001B[0m\u001B[1;33m\u001B[0m\u001B[0m\n\u001B[0m\u001B[0;32m     47\u001B[0m \u001B[0mcheckpoint_file\u001B[0m \u001B[1;33m=\u001B[0m \u001B[1;34m\"../../pretrained_models/relation_matching_models/webqsp.pt\"\u001B[0m\u001B[1;33m\u001B[0m\u001B[1;33m\u001B[0m\u001B[0m\n\u001B[0;32m     48\u001B[0m \u001B[0mmodel\u001B[0m\u001B[1;33m.\u001B[0m\u001B[0mload_state_dict\u001B[0m\u001B[1;33m(\u001B[0m\u001B[0mtorch\u001B[0m\u001B[1;33m.\u001B[0m\u001B[0mload\u001B[0m\u001B[1;33m(\u001B[0m\u001B[0mcheckpoint_file\u001B[0m\u001B[1;33m,\u001B[0m \u001B[0mmap_location\u001B[0m\u001B[1;33m=\u001B[0m\u001B[1;32mlambda\u001B[0m \u001B[0mstorage\u001B[0m\u001B[1;33m,\u001B[0m \u001B[0mloc\u001B[0m\u001B[1;33m:\u001B[0m \u001B[0mstorage\u001B[0m\u001B[1;33m)\u001B[0m\u001B[1;33m)\u001B[0m\u001B[1;33m\u001B[0m\u001B[1;33m\u001B[0m\u001B[0m\n",
      "\u001B[1;32mD:\\PycharmProjects\\EmbedKGQA\\KGQA\\RoBERTa\\pruning_model.py\u001B[0m in \u001B[0;36m__init__\u001B[1;34m(self, rel2idx, idx2rel, ls)\u001B[0m\n\u001B[0;32m     20\u001B[0m \u001B[1;33m\u001B[0m\u001B[0m\n\u001B[0;32m     21\u001B[0m         \u001B[0mself\u001B[0m\u001B[1;33m.\u001B[0m\u001B[0mroberta_pretrained_weights\u001B[0m \u001B[1;33m=\u001B[0m \u001B[1;34m'roberta-base'\u001B[0m\u001B[1;33m\u001B[0m\u001B[1;33m\u001B[0m\u001B[0m\n\u001B[1;32m---> 22\u001B[1;33m         \u001B[0mself\u001B[0m\u001B[1;33m.\u001B[0m\u001B[0mroberta_model\u001B[0m \u001B[1;33m=\u001B[0m \u001B[0mRobertaModel\u001B[0m\u001B[1;33m.\u001B[0m\u001B[0mfrom_pretrained\u001B[0m\u001B[1;33m(\u001B[0m\u001B[0mself\u001B[0m\u001B[1;33m.\u001B[0m\u001B[0mroberta_pretrained_weights\u001B[0m\u001B[1;33m)\u001B[0m\u001B[1;33m\u001B[0m\u001B[1;33m\u001B[0m\u001B[0m\n\u001B[0m\u001B[0;32m     23\u001B[0m \u001B[1;33m\u001B[0m\u001B[0m\n\u001B[0;32m     24\u001B[0m         \u001B[0mself\u001B[0m\u001B[1;33m.\u001B[0m\u001B[0mroberta_dim\u001B[0m \u001B[1;33m=\u001B[0m \u001B[1;36m768\u001B[0m\u001B[1;33m\u001B[0m\u001B[1;33m\u001B[0m\u001B[0m\n",
      "\u001B[1;32mc:\\users\\lenovo\\anaconda3\\envs\\untitled\\lib\\site-packages\\transformers\\modeling_utils.py\u001B[0m in \u001B[0;36mfrom_pretrained\u001B[1;34m(cls, pretrained_model_name_or_path, *model_args, **kwargs)\u001B[0m\n\u001B[0;32m   1145\u001B[0m                     \u001B[0mlocal_files_only\u001B[0m\u001B[1;33m=\u001B[0m\u001B[0mlocal_files_only\u001B[0m\u001B[1;33m,\u001B[0m\u001B[1;33m\u001B[0m\u001B[1;33m\u001B[0m\u001B[0m\n\u001B[0;32m   1146\u001B[0m                     \u001B[0muse_auth_token\u001B[0m\u001B[1;33m=\u001B[0m\u001B[0muse_auth_token\u001B[0m\u001B[1;33m,\u001B[0m\u001B[1;33m\u001B[0m\u001B[1;33m\u001B[0m\u001B[0m\n\u001B[1;32m-> 1147\u001B[1;33m                     \u001B[0muser_agent\u001B[0m\u001B[1;33m=\u001B[0m\u001B[0muser_agent\u001B[0m\u001B[1;33m,\u001B[0m\u001B[1;33m\u001B[0m\u001B[1;33m\u001B[0m\u001B[0m\n\u001B[0m\u001B[0;32m   1148\u001B[0m                 )\n\u001B[0;32m   1149\u001B[0m             \u001B[1;32mexcept\u001B[0m \u001B[0mEnvironmentError\u001B[0m \u001B[1;32mas\u001B[0m \u001B[0merr\u001B[0m\u001B[1;33m:\u001B[0m\u001B[1;33m\u001B[0m\u001B[1;33m\u001B[0m\u001B[0m\n",
      "\u001B[1;32mc:\\users\\lenovo\\anaconda3\\envs\\untitled\\lib\\site-packages\\transformers\\file_utils.py\u001B[0m in \u001B[0;36mcached_path\u001B[1;34m(url_or_filename, cache_dir, force_download, proxies, resume_download, user_agent, extract_compressed_file, force_extract, use_auth_token, local_files_only)\u001B[0m\n\u001B[0;32m   1335\u001B[0m             \u001B[0muser_agent\u001B[0m\u001B[1;33m=\u001B[0m\u001B[0muser_agent\u001B[0m\u001B[1;33m,\u001B[0m\u001B[1;33m\u001B[0m\u001B[1;33m\u001B[0m\u001B[0m\n\u001B[0;32m   1336\u001B[0m             \u001B[0muse_auth_token\u001B[0m\u001B[1;33m=\u001B[0m\u001B[0muse_auth_token\u001B[0m\u001B[1;33m,\u001B[0m\u001B[1;33m\u001B[0m\u001B[1;33m\u001B[0m\u001B[0m\n\u001B[1;32m-> 1337\u001B[1;33m             \u001B[0mlocal_files_only\u001B[0m\u001B[1;33m=\u001B[0m\u001B[0mlocal_files_only\u001B[0m\u001B[1;33m,\u001B[0m\u001B[1;33m\u001B[0m\u001B[1;33m\u001B[0m\u001B[0m\n\u001B[0m\u001B[0;32m   1338\u001B[0m         )\n\u001B[0;32m   1339\u001B[0m     \u001B[1;32melif\u001B[0m \u001B[0mos\u001B[0m\u001B[1;33m.\u001B[0m\u001B[0mpath\u001B[0m\u001B[1;33m.\u001B[0m\u001B[0mexists\u001B[0m\u001B[1;33m(\u001B[0m\u001B[0murl_or_filename\u001B[0m\u001B[1;33m)\u001B[0m\u001B[1;33m:\u001B[0m\u001B[1;33m\u001B[0m\u001B[1;33m\u001B[0m\u001B[0m\n",
      "\u001B[1;32mc:\\users\\lenovo\\anaconda3\\envs\\untitled\\lib\\site-packages\\transformers\\file_utils.py\u001B[0m in \u001B[0;36mget_from_cache\u001B[1;34m(url, cache_dir, force_download, proxies, etag_timeout, resume_download, user_agent, use_auth_token, local_files_only)\u001B[0m\n\u001B[0;32m   1590\u001B[0m             \u001B[0mlogger\u001B[0m\u001B[1;33m.\u001B[0m\u001B[0minfo\u001B[0m\u001B[1;33m(\u001B[0m\u001B[1;34mf\"{url} not found in cache or force_download set to True, downloading to {temp_file.name}\"\u001B[0m\u001B[1;33m)\u001B[0m\u001B[1;33m\u001B[0m\u001B[1;33m\u001B[0m\u001B[0m\n\u001B[0;32m   1591\u001B[0m \u001B[1;33m\u001B[0m\u001B[0m\n\u001B[1;32m-> 1592\u001B[1;33m             \u001B[0mhttp_get\u001B[0m\u001B[1;33m(\u001B[0m\u001B[0murl_to_download\u001B[0m\u001B[1;33m,\u001B[0m \u001B[0mtemp_file\u001B[0m\u001B[1;33m,\u001B[0m \u001B[0mproxies\u001B[0m\u001B[1;33m=\u001B[0m\u001B[0mproxies\u001B[0m\u001B[1;33m,\u001B[0m \u001B[0mresume_size\u001B[0m\u001B[1;33m=\u001B[0m\u001B[0mresume_size\u001B[0m\u001B[1;33m,\u001B[0m \u001B[0mheaders\u001B[0m\u001B[1;33m=\u001B[0m\u001B[0mheaders\u001B[0m\u001B[1;33m)\u001B[0m\u001B[1;33m\u001B[0m\u001B[1;33m\u001B[0m\u001B[0m\n\u001B[0m\u001B[0;32m   1593\u001B[0m \u001B[1;33m\u001B[0m\u001B[0m\n\u001B[0;32m   1594\u001B[0m         \u001B[0mlogger\u001B[0m\u001B[1;33m.\u001B[0m\u001B[0minfo\u001B[0m\u001B[1;33m(\u001B[0m\u001B[1;34mf\"storing {url} in cache at {cache_path}\"\u001B[0m\u001B[1;33m)\u001B[0m\u001B[1;33m\u001B[0m\u001B[1;33m\u001B[0m\u001B[0m\n",
      "\u001B[1;32mc:\\users\\lenovo\\anaconda3\\envs\\untitled\\lib\\site-packages\\transformers\\file_utils.py\u001B[0m in \u001B[0;36mhttp_get\u001B[1;34m(url, temp_file, proxies, resume_size, headers)\u001B[0m\n\u001B[0;32m   1449\u001B[0m         \u001B[0mdisable\u001B[0m\u001B[1;33m=\u001B[0m\u001B[0mbool\u001B[0m\u001B[1;33m(\u001B[0m\u001B[0mlogging\u001B[0m\u001B[1;33m.\u001B[0m\u001B[0mget_verbosity\u001B[0m\u001B[1;33m(\u001B[0m\u001B[1;33m)\u001B[0m \u001B[1;33m==\u001B[0m \u001B[0mlogging\u001B[0m\u001B[1;33m.\u001B[0m\u001B[0mNOTSET\u001B[0m\u001B[1;33m)\u001B[0m\u001B[1;33m,\u001B[0m\u001B[1;33m\u001B[0m\u001B[1;33m\u001B[0m\u001B[0m\n\u001B[0;32m   1450\u001B[0m     )\n\u001B[1;32m-> 1451\u001B[1;33m     \u001B[1;32mfor\u001B[0m \u001B[0mchunk\u001B[0m \u001B[1;32min\u001B[0m \u001B[0mr\u001B[0m\u001B[1;33m.\u001B[0m\u001B[0miter_content\u001B[0m\u001B[1;33m(\u001B[0m\u001B[0mchunk_size\u001B[0m\u001B[1;33m=\u001B[0m\u001B[1;36m1024\u001B[0m\u001B[1;33m)\u001B[0m\u001B[1;33m:\u001B[0m\u001B[1;33m\u001B[0m\u001B[1;33m\u001B[0m\u001B[0m\n\u001B[0m\u001B[0;32m   1452\u001B[0m         \u001B[1;32mif\u001B[0m \u001B[0mchunk\u001B[0m\u001B[1;33m:\u001B[0m  \u001B[1;31m# filter out keep-alive new chunks\u001B[0m\u001B[1;33m\u001B[0m\u001B[1;33m\u001B[0m\u001B[0m\n\u001B[0;32m   1453\u001B[0m             \u001B[0mprogress\u001B[0m\u001B[1;33m.\u001B[0m\u001B[0mupdate\u001B[0m\u001B[1;33m(\u001B[0m\u001B[0mlen\u001B[0m\u001B[1;33m(\u001B[0m\u001B[0mchunk\u001B[0m\u001B[1;33m)\u001B[0m\u001B[1;33m)\u001B[0m\u001B[1;33m\u001B[0m\u001B[1;33m\u001B[0m\u001B[0m\n",
      "\u001B[1;32mc:\\users\\lenovo\\anaconda3\\envs\\untitled\\lib\\site-packages\\requests\\models.py\u001B[0m in \u001B[0;36mgenerate\u001B[1;34m()\u001B[0m\n\u001B[0;32m    751\u001B[0m             \u001B[1;32mif\u001B[0m \u001B[0mhasattr\u001B[0m\u001B[1;33m(\u001B[0m\u001B[0mself\u001B[0m\u001B[1;33m.\u001B[0m\u001B[0mraw\u001B[0m\u001B[1;33m,\u001B[0m \u001B[1;34m'stream'\u001B[0m\u001B[1;33m)\u001B[0m\u001B[1;33m:\u001B[0m\u001B[1;33m\u001B[0m\u001B[1;33m\u001B[0m\u001B[0m\n\u001B[0;32m    752\u001B[0m                 \u001B[1;32mtry\u001B[0m\u001B[1;33m:\u001B[0m\u001B[1;33m\u001B[0m\u001B[1;33m\u001B[0m\u001B[0m\n\u001B[1;32m--> 753\u001B[1;33m                     \u001B[1;32mfor\u001B[0m \u001B[0mchunk\u001B[0m \u001B[1;32min\u001B[0m \u001B[0mself\u001B[0m\u001B[1;33m.\u001B[0m\u001B[0mraw\u001B[0m\u001B[1;33m.\u001B[0m\u001B[0mstream\u001B[0m\u001B[1;33m(\u001B[0m\u001B[0mchunk_size\u001B[0m\u001B[1;33m,\u001B[0m \u001B[0mdecode_content\u001B[0m\u001B[1;33m=\u001B[0m\u001B[1;32mTrue\u001B[0m\u001B[1;33m)\u001B[0m\u001B[1;33m:\u001B[0m\u001B[1;33m\u001B[0m\u001B[1;33m\u001B[0m\u001B[0m\n\u001B[0m\u001B[0;32m    754\u001B[0m                         \u001B[1;32myield\u001B[0m \u001B[0mchunk\u001B[0m\u001B[1;33m\u001B[0m\u001B[1;33m\u001B[0m\u001B[0m\n\u001B[0;32m    755\u001B[0m                 \u001B[1;32mexcept\u001B[0m \u001B[0mProtocolError\u001B[0m \u001B[1;32mas\u001B[0m \u001B[0me\u001B[0m\u001B[1;33m:\u001B[0m\u001B[1;33m\u001B[0m\u001B[1;33m\u001B[0m\u001B[0m\n",
      "\u001B[1;32mc:\\users\\lenovo\\anaconda3\\envs\\untitled\\lib\\site-packages\\urllib3\\response.py\u001B[0m in \u001B[0;36mstream\u001B[1;34m(self, amt, decode_content)\u001B[0m\n\u001B[0;32m    574\u001B[0m         \u001B[1;32melse\u001B[0m\u001B[1;33m:\u001B[0m\u001B[1;33m\u001B[0m\u001B[1;33m\u001B[0m\u001B[0m\n\u001B[0;32m    575\u001B[0m             \u001B[1;32mwhile\u001B[0m \u001B[1;32mnot\u001B[0m \u001B[0mis_fp_closed\u001B[0m\u001B[1;33m(\u001B[0m\u001B[0mself\u001B[0m\u001B[1;33m.\u001B[0m\u001B[0m_fp\u001B[0m\u001B[1;33m)\u001B[0m\u001B[1;33m:\u001B[0m\u001B[1;33m\u001B[0m\u001B[1;33m\u001B[0m\u001B[0m\n\u001B[1;32m--> 576\u001B[1;33m                 \u001B[0mdata\u001B[0m \u001B[1;33m=\u001B[0m \u001B[0mself\u001B[0m\u001B[1;33m.\u001B[0m\u001B[0mread\u001B[0m\u001B[1;33m(\u001B[0m\u001B[0mamt\u001B[0m\u001B[1;33m=\u001B[0m\u001B[0mamt\u001B[0m\u001B[1;33m,\u001B[0m \u001B[0mdecode_content\u001B[0m\u001B[1;33m=\u001B[0m\u001B[0mdecode_content\u001B[0m\u001B[1;33m)\u001B[0m\u001B[1;33m\u001B[0m\u001B[1;33m\u001B[0m\u001B[0m\n\u001B[0m\u001B[0;32m    577\u001B[0m \u001B[1;33m\u001B[0m\u001B[0m\n\u001B[0;32m    578\u001B[0m                 \u001B[1;32mif\u001B[0m \u001B[0mdata\u001B[0m\u001B[1;33m:\u001B[0m\u001B[1;33m\u001B[0m\u001B[1;33m\u001B[0m\u001B[0m\n",
      "\u001B[1;32mc:\\users\\lenovo\\anaconda3\\envs\\untitled\\lib\\site-packages\\urllib3\\response.py\u001B[0m in \u001B[0;36mread\u001B[1;34m(self, amt, decode_content, cache_content)\u001B[0m\n\u001B[0;32m    517\u001B[0m             \u001B[1;32melse\u001B[0m\u001B[1;33m:\u001B[0m\u001B[1;33m\u001B[0m\u001B[1;33m\u001B[0m\u001B[0m\n\u001B[0;32m    518\u001B[0m                 \u001B[0mcache_content\u001B[0m \u001B[1;33m=\u001B[0m \u001B[1;32mFalse\u001B[0m\u001B[1;33m\u001B[0m\u001B[1;33m\u001B[0m\u001B[0m\n\u001B[1;32m--> 519\u001B[1;33m                 \u001B[0mdata\u001B[0m \u001B[1;33m=\u001B[0m \u001B[0mself\u001B[0m\u001B[1;33m.\u001B[0m\u001B[0m_fp\u001B[0m\u001B[1;33m.\u001B[0m\u001B[0mread\u001B[0m\u001B[1;33m(\u001B[0m\u001B[0mamt\u001B[0m\u001B[1;33m)\u001B[0m \u001B[1;32mif\u001B[0m \u001B[1;32mnot\u001B[0m \u001B[0mfp_closed\u001B[0m \u001B[1;32melse\u001B[0m \u001B[1;34mb\"\"\u001B[0m\u001B[1;33m\u001B[0m\u001B[1;33m\u001B[0m\u001B[0m\n\u001B[0m\u001B[0;32m    520\u001B[0m                 if (\n\u001B[0;32m    521\u001B[0m                     \u001B[0mamt\u001B[0m \u001B[1;33m!=\u001B[0m \u001B[1;36m0\u001B[0m \u001B[1;32mand\u001B[0m \u001B[1;32mnot\u001B[0m \u001B[0mdata\u001B[0m\u001B[1;33m\u001B[0m\u001B[1;33m\u001B[0m\u001B[0m\n",
      "\u001B[1;32mc:\\users\\lenovo\\anaconda3\\envs\\untitled\\lib\\http\\client.py\u001B[0m in \u001B[0;36mread\u001B[1;34m(self, amt)\u001B[0m\n\u001B[0;32m    457\u001B[0m             \u001B[1;31m# Amount is given, implement using readinto\u001B[0m\u001B[1;33m\u001B[0m\u001B[1;33m\u001B[0m\u001B[1;33m\u001B[0m\u001B[0m\n\u001B[0;32m    458\u001B[0m             \u001B[0mb\u001B[0m \u001B[1;33m=\u001B[0m \u001B[0mbytearray\u001B[0m\u001B[1;33m(\u001B[0m\u001B[0mamt\u001B[0m\u001B[1;33m)\u001B[0m\u001B[1;33m\u001B[0m\u001B[1;33m\u001B[0m\u001B[0m\n\u001B[1;32m--> 459\u001B[1;33m             \u001B[0mn\u001B[0m \u001B[1;33m=\u001B[0m \u001B[0mself\u001B[0m\u001B[1;33m.\u001B[0m\u001B[0mreadinto\u001B[0m\u001B[1;33m(\u001B[0m\u001B[0mb\u001B[0m\u001B[1;33m)\u001B[0m\u001B[1;33m\u001B[0m\u001B[1;33m\u001B[0m\u001B[0m\n\u001B[0m\u001B[0;32m    460\u001B[0m             \u001B[1;32mreturn\u001B[0m \u001B[0mmemoryview\u001B[0m\u001B[1;33m(\u001B[0m\u001B[0mb\u001B[0m\u001B[1;33m)\u001B[0m\u001B[1;33m[\u001B[0m\u001B[1;33m:\u001B[0m\u001B[0mn\u001B[0m\u001B[1;33m]\u001B[0m\u001B[1;33m.\u001B[0m\u001B[0mtobytes\u001B[0m\u001B[1;33m(\u001B[0m\u001B[1;33m)\u001B[0m\u001B[1;33m\u001B[0m\u001B[1;33m\u001B[0m\u001B[0m\n\u001B[0;32m    461\u001B[0m         \u001B[1;32melse\u001B[0m\u001B[1;33m:\u001B[0m\u001B[1;33m\u001B[0m\u001B[1;33m\u001B[0m\u001B[0m\n",
      "\u001B[1;32mc:\\users\\lenovo\\anaconda3\\envs\\untitled\\lib\\http\\client.py\u001B[0m in \u001B[0;36mreadinto\u001B[1;34m(self, b)\u001B[0m\n\u001B[0;32m    501\u001B[0m         \u001B[1;31m# connection, and the user is reading more bytes than will be provided\u001B[0m\u001B[1;33m\u001B[0m\u001B[1;33m\u001B[0m\u001B[1;33m\u001B[0m\u001B[0m\n\u001B[0;32m    502\u001B[0m         \u001B[1;31m# (for example, reading in 1k chunks)\u001B[0m\u001B[1;33m\u001B[0m\u001B[1;33m\u001B[0m\u001B[1;33m\u001B[0m\u001B[0m\n\u001B[1;32m--> 503\u001B[1;33m         \u001B[0mn\u001B[0m \u001B[1;33m=\u001B[0m \u001B[0mself\u001B[0m\u001B[1;33m.\u001B[0m\u001B[0mfp\u001B[0m\u001B[1;33m.\u001B[0m\u001B[0mreadinto\u001B[0m\u001B[1;33m(\u001B[0m\u001B[0mb\u001B[0m\u001B[1;33m)\u001B[0m\u001B[1;33m\u001B[0m\u001B[1;33m\u001B[0m\u001B[0m\n\u001B[0m\u001B[0;32m    504\u001B[0m         \u001B[1;32mif\u001B[0m \u001B[1;32mnot\u001B[0m \u001B[0mn\u001B[0m \u001B[1;32mand\u001B[0m \u001B[0mb\u001B[0m\u001B[1;33m:\u001B[0m\u001B[1;33m\u001B[0m\u001B[1;33m\u001B[0m\u001B[0m\n\u001B[0;32m    505\u001B[0m             \u001B[1;31m# Ideally, we would raise IncompleteRead if the content-length\u001B[0m\u001B[1;33m\u001B[0m\u001B[1;33m\u001B[0m\u001B[1;33m\u001B[0m\u001B[0m\n",
      "\u001B[1;32mc:\\users\\lenovo\\anaconda3\\envs\\untitled\\lib\\socket.py\u001B[0m in \u001B[0;36mreadinto\u001B[1;34m(self, b)\u001B[0m\n\u001B[0;32m    584\u001B[0m         \u001B[1;32mwhile\u001B[0m \u001B[1;32mTrue\u001B[0m\u001B[1;33m:\u001B[0m\u001B[1;33m\u001B[0m\u001B[1;33m\u001B[0m\u001B[0m\n\u001B[0;32m    585\u001B[0m             \u001B[1;32mtry\u001B[0m\u001B[1;33m:\u001B[0m\u001B[1;33m\u001B[0m\u001B[1;33m\u001B[0m\u001B[0m\n\u001B[1;32m--> 586\u001B[1;33m                 \u001B[1;32mreturn\u001B[0m \u001B[0mself\u001B[0m\u001B[1;33m.\u001B[0m\u001B[0m_sock\u001B[0m\u001B[1;33m.\u001B[0m\u001B[0mrecv_into\u001B[0m\u001B[1;33m(\u001B[0m\u001B[0mb\u001B[0m\u001B[1;33m)\u001B[0m\u001B[1;33m\u001B[0m\u001B[1;33m\u001B[0m\u001B[0m\n\u001B[0m\u001B[0;32m    587\u001B[0m             \u001B[1;32mexcept\u001B[0m \u001B[0mtimeout\u001B[0m\u001B[1;33m:\u001B[0m\u001B[1;33m\u001B[0m\u001B[1;33m\u001B[0m\u001B[0m\n\u001B[0;32m    588\u001B[0m                 \u001B[0mself\u001B[0m\u001B[1;33m.\u001B[0m\u001B[0m_timeout_occurred\u001B[0m \u001B[1;33m=\u001B[0m \u001B[1;32mTrue\u001B[0m\u001B[1;33m\u001B[0m\u001B[1;33m\u001B[0m\u001B[0m\n",
      "\u001B[1;32mc:\\users\\lenovo\\anaconda3\\envs\\untitled\\lib\\ssl.py\u001B[0m in \u001B[0;36mrecv_into\u001B[1;34m(self, buffer, nbytes, flags)\u001B[0m\n\u001B[0;32m   1010\u001B[0m                   \u001B[1;34m\"non-zero flags not allowed in calls to recv_into() on %s\"\u001B[0m \u001B[1;33m%\u001B[0m\u001B[1;33m\u001B[0m\u001B[1;33m\u001B[0m\u001B[0m\n\u001B[0;32m   1011\u001B[0m                   self.__class__)\n\u001B[1;32m-> 1012\u001B[1;33m             \u001B[1;32mreturn\u001B[0m \u001B[0mself\u001B[0m\u001B[1;33m.\u001B[0m\u001B[0mread\u001B[0m\u001B[1;33m(\u001B[0m\u001B[0mnbytes\u001B[0m\u001B[1;33m,\u001B[0m \u001B[0mbuffer\u001B[0m\u001B[1;33m)\u001B[0m\u001B[1;33m\u001B[0m\u001B[1;33m\u001B[0m\u001B[0m\n\u001B[0m\u001B[0;32m   1013\u001B[0m         \u001B[1;32melse\u001B[0m\u001B[1;33m:\u001B[0m\u001B[1;33m\u001B[0m\u001B[1;33m\u001B[0m\u001B[0m\n\u001B[0;32m   1014\u001B[0m             \u001B[1;32mreturn\u001B[0m \u001B[0msocket\u001B[0m\u001B[1;33m.\u001B[0m\u001B[0mrecv_into\u001B[0m\u001B[1;33m(\u001B[0m\u001B[0mself\u001B[0m\u001B[1;33m,\u001B[0m \u001B[0mbuffer\u001B[0m\u001B[1;33m,\u001B[0m \u001B[0mnbytes\u001B[0m\u001B[1;33m,\u001B[0m \u001B[0mflags\u001B[0m\u001B[1;33m)\u001B[0m\u001B[1;33m\u001B[0m\u001B[1;33m\u001B[0m\u001B[0m\n",
      "\u001B[1;32mc:\\users\\lenovo\\anaconda3\\envs\\untitled\\lib\\ssl.py\u001B[0m in \u001B[0;36mread\u001B[1;34m(self, len, buffer)\u001B[0m\n\u001B[0;32m    872\u001B[0m             \u001B[1;32mraise\u001B[0m \u001B[0mValueError\u001B[0m\u001B[1;33m(\u001B[0m\u001B[1;34m\"Read on closed or unwrapped SSL socket.\"\u001B[0m\u001B[1;33m)\u001B[0m\u001B[1;33m\u001B[0m\u001B[1;33m\u001B[0m\u001B[0m\n\u001B[0;32m    873\u001B[0m         \u001B[1;32mtry\u001B[0m\u001B[1;33m:\u001B[0m\u001B[1;33m\u001B[0m\u001B[1;33m\u001B[0m\u001B[0m\n\u001B[1;32m--> 874\u001B[1;33m             \u001B[1;32mreturn\u001B[0m \u001B[0mself\u001B[0m\u001B[1;33m.\u001B[0m\u001B[0m_sslobj\u001B[0m\u001B[1;33m.\u001B[0m\u001B[0mread\u001B[0m\u001B[1;33m(\u001B[0m\u001B[0mlen\u001B[0m\u001B[1;33m,\u001B[0m \u001B[0mbuffer\u001B[0m\u001B[1;33m)\u001B[0m\u001B[1;33m\u001B[0m\u001B[1;33m\u001B[0m\u001B[0m\n\u001B[0m\u001B[0;32m    875\u001B[0m         \u001B[1;32mexcept\u001B[0m \u001B[0mSSLError\u001B[0m \u001B[1;32mas\u001B[0m \u001B[0mx\u001B[0m\u001B[1;33m:\u001B[0m\u001B[1;33m\u001B[0m\u001B[1;33m\u001B[0m\u001B[0m\n\u001B[0;32m    876\u001B[0m             \u001B[1;32mif\u001B[0m \u001B[0mx\u001B[0m\u001B[1;33m.\u001B[0m\u001B[0margs\u001B[0m\u001B[1;33m[\u001B[0m\u001B[1;36m0\u001B[0m\u001B[1;33m]\u001B[0m \u001B[1;33m==\u001B[0m \u001B[0mSSL_ERROR_EOF\u001B[0m \u001B[1;32mand\u001B[0m \u001B[0mself\u001B[0m\u001B[1;33m.\u001B[0m\u001B[0msuppress_ragged_eofs\u001B[0m\u001B[1;33m:\u001B[0m\u001B[1;33m\u001B[0m\u001B[1;33m\u001B[0m\u001B[0m\n",
      "\u001B[1;32mc:\\users\\lenovo\\anaconda3\\envs\\untitled\\lib\\ssl.py\u001B[0m in \u001B[0;36mread\u001B[1;34m(self, len, buffer)\u001B[0m\n\u001B[0;32m    629\u001B[0m         \"\"\"\n\u001B[0;32m    630\u001B[0m         \u001B[1;32mif\u001B[0m \u001B[0mbuffer\u001B[0m \u001B[1;32mis\u001B[0m \u001B[1;32mnot\u001B[0m \u001B[1;32mNone\u001B[0m\u001B[1;33m:\u001B[0m\u001B[1;33m\u001B[0m\u001B[1;33m\u001B[0m\u001B[0m\n\u001B[1;32m--> 631\u001B[1;33m             \u001B[0mv\u001B[0m \u001B[1;33m=\u001B[0m \u001B[0mself\u001B[0m\u001B[1;33m.\u001B[0m\u001B[0m_sslobj\u001B[0m\u001B[1;33m.\u001B[0m\u001B[0mread\u001B[0m\u001B[1;33m(\u001B[0m\u001B[0mlen\u001B[0m\u001B[1;33m,\u001B[0m \u001B[0mbuffer\u001B[0m\u001B[1;33m)\u001B[0m\u001B[1;33m\u001B[0m\u001B[1;33m\u001B[0m\u001B[0m\n\u001B[0m\u001B[0;32m    632\u001B[0m         \u001B[1;32melse\u001B[0m\u001B[1;33m:\u001B[0m\u001B[1;33m\u001B[0m\u001B[1;33m\u001B[0m\u001B[0m\n\u001B[0;32m    633\u001B[0m             \u001B[0mv\u001B[0m \u001B[1;33m=\u001B[0m \u001B[0mself\u001B[0m\u001B[1;33m.\u001B[0m\u001B[0m_sslobj\u001B[0m\u001B[1;33m.\u001B[0m\u001B[0mread\u001B[0m\u001B[1;33m(\u001B[0m\u001B[0mlen\u001B[0m\u001B[1;33m)\u001B[0m\u001B[1;33m\u001B[0m\u001B[1;33m\u001B[0m\u001B[0m\n",
      "\u001B[1;31mKeyboardInterrupt\u001B[0m: "
     ]
    }
   ],
   "source": [
    "import os\n",
    "import torch\n",
    "import numpy as np\n",
    "from torch.utils.data import Dataset, DataLoader\n",
    "import torch.nn as nn\n",
    "import pickle\n",
    "from tqdm import tqdm\n",
    "import argparse\n",
    "import operator\n",
    "from torch.nn import functional as F\n",
    "import networkx as nx\n",
    "from collections import defaultdict\n",
    "from pruning_model import PruningModel\n",
    "from pruning_dataloader import DatasetPruning, DataLoaderPruning\n",
    "\n",
    "os.environ[\"CUDA_VISIBLE_DEVICES\"]=\"0\"\n",
    "\n",
    "f = open('../../data/fbwq_full/relations_all.dict', 'r')\n",
    "rel2idx = {}\n",
    "idx2rel = {}\n",
    "for line in f:\n",
    "    line = line.strip().split('\\t')\n",
    "    id = int(line[1])\n",
    "    rel = line[0]\n",
    "    rel2idx[rel] = id\n",
    "    idx2rel[id] = rel\n",
    "f.close()\n",
    "\n",
    "def process_data_file(fname, rel2idx, idx2rel):\n",
    "    f = open(fname, 'r')\n",
    "    data = []\n",
    "    for line in f:\n",
    "        line = line.strip().split('\\t')\n",
    "        question = line[0].strip()\n",
    "        #TODO only work for webqsp. to remove entity from metaqa, use something else\n",
    "        #remove entity from question\n",
    "        question = question.split('[')[0]\n",
    "        rel_list = line[1].split('|')\n",
    "        rel_id_list = []\n",
    "        for rel in rel_list:\n",
    "            rel_id_list.append(rel2idx[rel])\n",
    "        data.append((question, rel_id_list, line[0].strip()))\n",
    "    return data\n",
    "\n",
    "model = PruningModel(rel2idx, idx2rel, 0.0)\n",
    "checkpoint_file = \"../../pretrained_models/relation_matching_models/webqsp.pt\"\n",
    "model.load_state_dict(torch.load(checkpoint_file, map_location=lambda storage, loc: storage))\n",
    "\n",
    "data = process_data_file('../../data/fbwq_full/pruning_train.txt', rel2idx, idx2rel)\n",
    "dataset = DatasetPruning(data=data, rel2idx = rel2idx, idx2rel = idx2rel)\n",
    "print('Done')"
   ]
  },
  {
   "cell_type": "code",
   "execution_count": null,
   "metadata": {},
   "outputs": [],
   "source": [
    "def getHead(q):\n",
    "    question = q.split('[')\n",
    "    question_1 = question[0]\n",
    "    question_2 = question[1].split(']')\n",
    "    head = question_2[0].strip()\n",
    "    return head\n",
    "\n",
    "def get2hop(graph, entity):\n",
    "    l1 = graph[entity]\n",
    "    ans = []\n",
    "    ans += l1\n",
    "    for item in l1:\n",
    "        ans += graph[item]\n",
    "    ans = set(ans)\n",
    "    if entity in ans:\n",
    "        ans.remove(entity)\n",
    "    return ans\n",
    "\n",
    "def get3hop(graph, entity):\n",
    "    l1 = graph[entity]\n",
    "    ans = []\n",
    "    ans += l1\n",
    "    for item in l1:\n",
    "        ans += graph[item]\n",
    "    ans2 = []\n",
    "    ans2 += ans\n",
    "    for item in ans:\n",
    "        ans2 += graph[item]\n",
    "    ans2 = set(ans2)\n",
    "    if entity in ans2:\n",
    "        ans2.remove(entity)\n",
    "    return ans2\n",
    "\n",
    "def get1hop(graph, entity):\n",
    "    l1 = graph[entity]\n",
    "    ans = []\n",
    "    ans += l1\n",
    "    ans = set(ans)\n",
    "    if entity in ans:\n",
    "        ans.remove(entity)\n",
    "    return ans\n",
    "\n",
    "\n",
    "def getnhop(graph, entity, hops=1):\n",
    "    if hops == 1:\n",
    "        return get1hop(graph, entity)\n",
    "    elif hops == 2:\n",
    "        return get2hop(graph, entity)\n",
    "    else:\n",
    "        return get3hop(graph, entity)\n",
    "\n"
   ]
  },
  {
   "cell_type": "code",
   "execution_count": null,
   "metadata": {},
   "outputs": [],
   "source": [
    "def getAllRelations(head, tail):\n",
    "    global G\n",
    "    global triples_dict\n",
    "    try:\n",
    "        shortest_length = nx.shortest_path_length(G, head, tail)\n",
    "    except:\n",
    "        shortest_length = 0\n",
    "    if shortest_length == 0:\n",
    "        return set()\n",
    "    if shortest_length == 1:\n",
    "        return triples_dict[(head, tail)]\n",
    "    elif shortest_length == 2:\n",
    "        paths = [nx.shortest_path(G, head, tail)]\n",
    "        relations = set()\n",
    "        for p in paths:\n",
    "            rels1 = triples_dict[(p[0], p[1])]\n",
    "            rels2 = triples_dict[(p[1], p[2])]\n",
    "            relations = relations.union(rels1)\n",
    "            relations = relations.union(rels2)\n",
    "        return relations\n",
    "    else:\n",
    "        return set()\n",
    "    "
   ]
  },
  {
   "cell_type": "code",
   "execution_count": null,
   "metadata": {},
   "outputs": [],
   "source": [
    "def removeHead(question):\n",
    "    question = question = question.split('[')[0]\n",
    "    return question"
   ]
  },
  {
   "cell_type": "code",
   "execution_count": null,
   "metadata": {},
   "outputs": [],
   "source": [
    "# subset of questions for faster testing/tuning\n",
    "num_for_testing = 100\n",
    "# num_for_testing = len(cws)"
   ]
  },
  {
   "cell_type": "code",
   "execution_count": 13,
   "metadata": {
    "scrolled": true
   },
   "outputs": [
    {
     "ename": "NameError",
     "evalue": "name 'num_for_testing' is not defined",
     "output_type": "error",
     "traceback": [
      "\u001B[1;31m---------------------------------------------------------------------------\u001B[0m",
      "\u001B[1;31mNameError\u001B[0m                                 Traceback (most recent call last)",
      "\u001B[1;32m<ipython-input-13-5f052411f1ac>\u001B[0m in \u001B[0;36m<module>\u001B[1;34m\u001B[0m\n\u001B[0;32m      6\u001B[0m \u001B[1;33m\u001B[0m\u001B[0m\n\u001B[0;32m      7\u001B[0m \u001B[0mnum_correct\u001B[0m \u001B[1;33m=\u001B[0m \u001B[1;36m0\u001B[0m\u001B[1;33m\u001B[0m\u001B[1;33m\u001B[0m\u001B[0m\n\u001B[1;32m----> 8\u001B[1;33m \u001B[1;32mfor\u001B[0m \u001B[0mq\u001B[0m \u001B[1;32min\u001B[0m \u001B[0mtqdm\u001B[0m\u001B[1;33m(\u001B[0m\u001B[0mcws\u001B[0m\u001B[1;33m[\u001B[0m\u001B[1;33m:\u001B[0m\u001B[0mnum_for_testing\u001B[0m\u001B[1;33m]\u001B[0m\u001B[1;33m)\u001B[0m\u001B[1;33m:\u001B[0m\u001B[1;33m\u001B[0m\u001B[1;33m\u001B[0m\u001B[0m\n\u001B[0m\u001B[0;32m      9\u001B[0m     \u001B[0mquestion\u001B[0m \u001B[1;33m=\u001B[0m \u001B[0mq\u001B[0m\u001B[1;33m[\u001B[0m\u001B[1;34m'question'\u001B[0m\u001B[1;33m]\u001B[0m\u001B[1;33m\u001B[0m\u001B[1;33m\u001B[0m\u001B[0m\n\u001B[0;32m     10\u001B[0m     \u001B[0mquestion_nohead\u001B[0m \u001B[1;33m=\u001B[0m \u001B[0mquestion\u001B[0m\u001B[1;33m\u001B[0m\u001B[1;33m\u001B[0m\u001B[0m\n",
      "\u001B[1;31mNameError\u001B[0m: name 'num_for_testing' is not defined"
     ]
    }
   ],
   "source": [
    "# this is an alternative type of relation matching using neighbourhood\n",
    "# this was used in ablation, but params are not matching (since this notebook was\n",
    "# used for experimentation)\n",
    "# this is much faster than the algorithm mentioned in paper\n",
    "\n",
    "num_correct = 0\n",
    "for q in tqdm(cws[:num_for_testing]):\n",
    "    question = q['question']\n",
    "    question_nohead = question\n",
    "    answers = q['answers']\n",
    "    candidates = q['candidates']\n",
    "    head = q['head']\n",
    "    question_tokenized, attention_mask = dataset.tokenize_question(question)\n",
    "    scores = model.get_score_ranked(question_tokenized=question_tokenized, attention_mask=attention_mask)\n",
    "    pruning_rels_scores, pruning_rels_torch = torch.topk(scores, 5)\n",
    "    pruning_rels = set()\n",
    "    pruning_rels_threshold = 0.5\n",
    "    for s, p in zip(pruning_rels_scores, pruning_rels_torch):\n",
    "        if s > pruning_rels_threshold:\n",
    "            pruning_rels.add(idx2rel[p.item()])\n",
    "        \n",
    "    my_answer = \"\"\n",
    "    head_nbhood = get2hop(G, head)\n",
    "#     max_intersection = 0\n",
    "    for c in candidates:\n",
    "#         candidate_rels = getAllRelations(head, c)\n",
    "        if c in head_nbhood:\n",
    "            candidate_rels = getAllRelations(head, c)\n",
    "            intersection = pruning_rels.intersection(candidate_rels)            #返回交集\n",
    "            if len(intersection) > 0:\n",
    "                my_answer = c\n",
    "                break\n",
    "    if my_answer == \"\":\n",
    "        my_answer = candidates[0]\n",
    "    if my_answer in answers:\n",
    "        num_correct += 1\n",
    "print('Accuracy is', num_correct/num_for_testing)"
   ]
  },
  {
   "cell_type": "code",
   "execution_count": null,
   "metadata": {
    "scrolled": true
   },
   "outputs": [],
   "source": [
    "# Algorithm mentioned in paper, sec 4.4.1\n",
    "# slower than the previous one but does not have neighbourhood restriction\n",
    "num_correct = 0\n",
    "for q in tqdm(cws[:num_for_testing]):\n",
    "    question = q['question']\n",
    "    question_nohead = question\n",
    "    answers = q['answers']\n",
    "    candidates = q['candidates']\n",
    "    candidates_scores = q['scores']\n",
    "    head = q['head']\n",
    "    question_tokenized, attention_mask = dataset.tokenize_question(question)\n",
    "    scores = model.get_score_ranked(question_tokenized=question_tokenized, attention_mask=attention_mask)\n",
    "    pruning_rels_scores, pruning_rels_torch = torch.topk(scores, 2)\n",
    "    pruning_rels = set()\n",
    "    pruning_rels_threshold = 0.5 # threshold to consider as written in sec 4.4.1\n",
    "    for s, p in zip(pruning_rels_scores, pruning_rels_torch):\n",
    "        if s > pruning_rels_threshold:\n",
    "            pruning_rels.add(idx2rel[p.item()])\n",
    "    gamma = 1.0\n",
    "    max_score = 0.0\n",
    "    max_score_relscore = 0.0\n",
    "    max_score_answer = \"\"\n",
    "    for score, c in zip(candidates_scores, candidates):\n",
    "        actual_rels = getAllRelations(head, c)\n",
    "        relscore = len(actual_rels.intersection(pruning_rels))\n",
    "        totalscore = score + gamma*relscore\n",
    "        if totalscore > max_score:\n",
    "            max_score = totalscore\n",
    "            max_score_relscore = relscore\n",
    "            max_score_answer = c\n",
    "    is_correct = False\n",
    "    if max_score_answer in answers:\n",
    "        num_correct += 1\n",
    "        is_correct = True    "
   ]
  },
  {
   "cell_type": "code",
   "execution_count": null,
   "metadata": {},
   "outputs": [],
   "source": [
    "print('Accuracy is', num_correct/num_for_testing)"
   ]
  },
  {
   "cell_type": "code",
   "execution_count": 1,
   "metadata": {},
   "outputs": [
    {
     "ename": "NameError",
     "evalue": "name 'model' is not defined",
     "output_type": "error",
     "traceback": [
      "\u001B[1;31m---------------------------------------------------------------------------\u001B[0m",
      "\u001B[1;31mNameError\u001B[0m                                 Traceback (most recent call last)",
      "\u001B[1;32m<ipython-input-1-040e5edcb47e>\u001B[0m in \u001B[0;36m<module>\u001B[1;34m\u001B[0m\n\u001B[0;32m      4\u001B[0m \u001B[1;33m\u001B[0m\u001B[0m\n\u001B[0;32m      5\u001B[0m \u001B[0mqid\u001B[0m\u001B[1;33m=\u001B[0m\u001B[1;36m2\u001B[0m\u001B[1;33m\u001B[0m\u001B[1;33m\u001B[0m\u001B[0m\n\u001B[1;32m----> 6\u001B[1;33m \u001B[0mmodel\u001B[0m\u001B[1;33m.\u001B[0m\u001B[0meval\u001B[0m\u001B[1;33m(\u001B[0m\u001B[1;33m)\u001B[0m\u001B[1;33m\u001B[0m\u001B[1;33m\u001B[0m\u001B[0m\n\u001B[0m\u001B[0;32m      7\u001B[0m \u001B[0mqe\u001B[0m \u001B[1;33m=\u001B[0m \u001B[0mcws\u001B[0m\u001B[1;33m[\u001B[0m\u001B[0mqid\u001B[0m\u001B[1;33m]\u001B[0m\u001B[1;33m[\u001B[0m\u001B[1;34m'qe'\u001B[0m\u001B[1;33m]\u001B[0m\u001B[1;33m\u001B[0m\u001B[1;33m\u001B[0m\u001B[0m\n\u001B[0;32m      8\u001B[0m \u001B[0mp1\u001B[0m\u001B[1;33m,\u001B[0m \u001B[0mp2\u001B[0m \u001B[1;33m=\u001B[0m \u001B[0mtorch\u001B[0m\u001B[1;33m.\u001B[0m\u001B[0mtopk\u001B[0m\u001B[1;33m(\u001B[0m\u001B[0mmodel\u001B[0m\u001B[1;33m.\u001B[0m\u001B[0mget_score_ranked\u001B[0m\u001B[1;33m(\u001B[0m\u001B[0mqe\u001B[0m\u001B[1;33m)\u001B[0m\u001B[1;33m,\u001B[0m \u001B[1;36m5\u001B[0m\u001B[1;33m)\u001B[0m\u001B[1;33m\u001B[0m\u001B[1;33m\u001B[0m\u001B[0m\n",
      "\u001B[1;31mNameError\u001B[0m: name 'model' is not defined"
     ]
    }
   ],
   "source": [
    "# following code is just for investigating\n",
    "# i haven't removed it since it might be useful if\n",
    "# someone wants to explore\n",
    "\n",
    "qid=2\n",
    "model.eval()\n",
    "qe = cws[qid]['qe']\n",
    "p1, p2 = torch.topk(model.get_score_ranked(qe), 5)\n",
    "question = cws[qid]['question']\n",
    "print(question)\n",
    "# print(idx2rel[pred])\n",
    "for p in p2:\n",
    "    print(idx2rel[p.item()])\n",
    "candidates = cws[qid]['candidates']\n",
    "print(candidates)\n",
    "# print(cws[qid]['scores'])\n",
    "head = getHead(question)\n",
    "tail = candidates[1]\n",
    "getAllRelations(head, tail)"
   ]
  },
  {
   "cell_type": "code",
   "execution_count": null,
   "metadata": {},
   "outputs": [],
   "source": [
    "for p in paths:\n",
    "    print(p)"
   ]
  },
  {
   "cell_type": "code",
   "execution_count": null,
   "metadata": {},
   "outputs": [],
   "source": [
    "getRelationsFromKG('m.01_2n', 'm.0bvv2dt')"
   ]
  },
  {
   "cell_type": "code",
   "execution_count": null,
   "metadata": {},
   "outputs": [],
   "source": [
    "getRelationsFromKG('m.04j60kh', 'm.02_bcst')"
   ]
  },
  {
   "cell_type": "code",
   "execution_count": null,
   "metadata": {},
   "outputs": [],
   "source": []
  }
 ],
 "metadata": {
  "kernelspec": {
   "display_name": "Python 3",
   "language": "python",
   "name": "python3"
  },
  "language_info": {
   "codemirror_mode": {
    "name": "ipython",
    "version": 3
   },
   "file_extension": ".py",
   "mimetype": "text/x-python",
   "name": "python",
   "nbconvert_exporter": "python",
   "pygments_lexer": "ipython3",
   "version": "3.6.10"
  }
 },
 "nbformat": 4,
 "nbformat_minor": 2
}